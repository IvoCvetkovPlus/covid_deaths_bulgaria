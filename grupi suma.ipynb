{
 "cells": [
  {
   "cell_type": "code",
   "execution_count": 1,
   "id": "4d00e165",
   "metadata": {},
   "outputs": [],
   "source": [
    "import csv\n",
    "import pandas as pd\n",
    "import seaborn as sns\n",
    "import matplotlib.pyplot as plt\n",
    "import numpy as np"
   ]
  },
  {
   "cell_type": "code",
   "execution_count": 5,
   "id": "96a0b8f9",
   "metadata": {},
   "outputs": [],
   "source": [
    "datasource= (r\"C:\\Users\\Ivo\\Desktop\\covid_data\\Починали по пол и възрастови групи.csv\")"
   ]
  },
  {
   "cell_type": "code",
   "execution_count": 6,
   "id": "9ceb0b67",
   "metadata": {},
   "outputs": [],
   "source": [
    "df = pd.read_csv(datasource)\n"
   ]
  },
  {
   "cell_type": "code",
   "execution_count": 24,
   "id": "c5634b8c",
   "metadata": {},
   "outputs": [],
   "source": [
    "df = df.rename({'Пол' : 'sex'}, axis = 'columns')"
   ]
  },
  {
   "cell_type": "code",
   "execution_count": 26,
   "id": "1f3c1a59",
   "metadata": {},
   "outputs": [],
   "source": [
    "df = df.rename({'Брой починали' : 'deaths'}, axis = 'columns')"
   ]
  },
  {
   "cell_type": "code",
   "execution_count": 31,
   "id": "28bbef0a",
   "metadata": {},
   "outputs": [],
   "source": [
    "df = df.rename({'Възрастова група' :'age range'}, axis = 'columns')"
   ]
  },
  {
   "cell_type": "code",
   "execution_count": 32,
   "id": "fa794bc7",
   "metadata": {},
   "outputs": [],
   "source": [
    "df = df.rename({'Дата' : 'date'}, axis = 'columns')"
   ]
  },
  {
   "cell_type": "code",
   "execution_count": 33,
   "id": "3e117bec",
   "metadata": {},
   "outputs": [
    {
     "data": {
      "text/html": [
       "<div>\n",
       "<style scoped>\n",
       "    .dataframe tbody tr th:only-of-type {\n",
       "        vertical-align: middle;\n",
       "    }\n",
       "\n",
       "    .dataframe tbody tr th {\n",
       "        vertical-align: top;\n",
       "    }\n",
       "\n",
       "    .dataframe thead th {\n",
       "        text-align: right;\n",
       "    }\n",
       "</style>\n",
       "<table border=\"1\" class=\"dataframe\">\n",
       "  <thead>\n",
       "    <tr style=\"text-align: right;\">\n",
       "      <th></th>\n",
       "      <th>date</th>\n",
       "      <th>sex</th>\n",
       "      <th>age range</th>\n",
       "      <th>deaths</th>\n",
       "    </tr>\n",
       "  </thead>\n",
       "  <tbody>\n",
       "    <tr>\n",
       "      <th>3914</th>\n",
       "      <td>2021/10/19</td>\n",
       "      <td>мъж</td>\n",
       "      <td>0 - 12</td>\n",
       "      <td>1</td>\n",
       "    </tr>\n",
       "    <tr>\n",
       "      <th>3461</th>\n",
       "      <td>2021/09/06</td>\n",
       "      <td>жена</td>\n",
       "      <td>0 - 12</td>\n",
       "      <td>1</td>\n",
       "    </tr>\n",
       "    <tr>\n",
       "      <th>909</th>\n",
       "      <td>2020/11/24</td>\n",
       "      <td>мъж</td>\n",
       "      <td>0 - 12</td>\n",
       "      <td>1</td>\n",
       "    </tr>\n",
       "    <tr>\n",
       "      <th>3621</th>\n",
       "      <td>2021/09/20</td>\n",
       "      <td>жена</td>\n",
       "      <td>0 - 12</td>\n",
       "      <td>1</td>\n",
       "    </tr>\n",
       "    <tr>\n",
       "      <th>1193</th>\n",
       "      <td>2020/12/16</td>\n",
       "      <td>мъж</td>\n",
       "      <td>0 - 12</td>\n",
       "      <td>1</td>\n",
       "    </tr>\n",
       "  </tbody>\n",
       "</table>\n",
       "</div>"
      ],
      "text/plain": [
       "            date   sex age range  deaths\n",
       "3914  2021/10/19   мъж    0 - 12       1\n",
       "3461  2021/09/06  жена    0 - 12       1\n",
       "909   2020/11/24   мъж    0 - 12       1\n",
       "3621  2021/09/20  жена    0 - 12       1\n",
       "1193  2020/12/16   мъж    0 - 12       1"
      ]
     },
     "execution_count": 33,
     "metadata": {},
     "output_type": "execute_result"
    }
   ],
   "source": [
    "df.head(5)"
   ]
  },
  {
   "cell_type": "code",
   "execution_count": 94,
   "id": "789fcd53",
   "metadata": {},
   "outputs": [
    {
     "data": {
      "text/plain": [
       "Index(['date', 'sex', 'age range', 'deaths'], dtype='object')"
      ]
     },
     "execution_count": 94,
     "metadata": {},
     "output_type": "execute_result"
    }
   ],
   "source": [
    "df.keys()"
   ]
  },
  {
   "cell_type": "code",
   "execution_count": 34,
   "id": "7bab32e4",
   "metadata": {
    "scrolled": true
   },
   "outputs": [],
   "source": [
    "df = df.sort_values(by=[\"age range\"])\n"
   ]
  },
  {
   "cell_type": "code",
   "execution_count": 40,
   "id": "e1f5ae58",
   "metadata": {},
   "outputs": [
    {
     "data": {
      "text/html": [
       "<div>\n",
       "<style scoped>\n",
       "    .dataframe tbody tr th:only-of-type {\n",
       "        vertical-align: middle;\n",
       "    }\n",
       "\n",
       "    .dataframe tbody tr th {\n",
       "        vertical-align: top;\n",
       "    }\n",
       "\n",
       "    .dataframe thead th {\n",
       "        text-align: right;\n",
       "    }\n",
       "</style>\n",
       "<table border=\"1\" class=\"dataframe\">\n",
       "  <thead>\n",
       "    <tr style=\"text-align: right;\">\n",
       "      <th></th>\n",
       "      <th>date</th>\n",
       "      <th>sex</th>\n",
       "      <th>age range</th>\n",
       "      <th>deaths</th>\n",
       "    </tr>\n",
       "  </thead>\n",
       "  <tbody>\n",
       "    <tr>\n",
       "      <th>3914</th>\n",
       "      <td>2021/10/19</td>\n",
       "      <td>мъж</td>\n",
       "      <td>0 - 12</td>\n",
       "      <td>1</td>\n",
       "    </tr>\n",
       "    <tr>\n",
       "      <th>3461</th>\n",
       "      <td>2021/09/06</td>\n",
       "      <td>жена</td>\n",
       "      <td>0 - 12</td>\n",
       "      <td>1</td>\n",
       "    </tr>\n",
       "    <tr>\n",
       "      <th>909</th>\n",
       "      <td>2020/11/24</td>\n",
       "      <td>мъж</td>\n",
       "      <td>0 - 12</td>\n",
       "      <td>1</td>\n",
       "    </tr>\n",
       "    <tr>\n",
       "      <th>3621</th>\n",
       "      <td>2021/09/20</td>\n",
       "      <td>жена</td>\n",
       "      <td>0 - 12</td>\n",
       "      <td>1</td>\n",
       "    </tr>\n",
       "    <tr>\n",
       "      <th>1193</th>\n",
       "      <td>2020/12/16</td>\n",
       "      <td>мъж</td>\n",
       "      <td>0 - 12</td>\n",
       "      <td>1</td>\n",
       "    </tr>\n",
       "  </tbody>\n",
       "</table>\n",
       "</div>"
      ],
      "text/plain": [
       "            date   sex age range  deaths\n",
       "3914  2021/10/19   мъж    0 - 12       1\n",
       "3461  2021/09/06  жена    0 - 12       1\n",
       "909   2020/11/24   мъж    0 - 12       1\n",
       "3621  2021/09/20  жена    0 - 12       1\n",
       "1193  2020/12/16   мъж    0 - 12       1"
      ]
     },
     "execution_count": 40,
     "metadata": {},
     "output_type": "execute_result"
    }
   ],
   "source": [
    "df.head()"
   ]
  },
  {
   "cell_type": "code",
   "execution_count": 69,
   "id": "54900d30",
   "metadata": {},
   "outputs": [],
   "source": [
    "total = df.loc[df['age range'] == '90+', 'deaths'].sum()"
   ]
  },
  {
   "cell_type": "code",
   "execution_count": 70,
   "id": "fdabc347",
   "metadata": {},
   "outputs": [
    {
     "name": "stdout",
     "output_type": "stream",
     "text": [
      "656\n"
     ]
    }
   ],
   "source": [
    "print(total)"
   ]
  },
  {
   "cell_type": "code",
   "execution_count": 71,
   "id": "b1b88154",
   "metadata": {},
   "outputs": [],
   "source": [
    "df2 = pd.DataFrame({\"0-12\":[6],\"12-14\":[4],\"15-16\":[4],\n",
    "                    \"17-19\":[8],\"20-29\":[73],\"30-39\":[296],\"40-49\":[1004],\n",
    "                    \"50-59\":[2614],\"60-69\":[6700],\"70-79\":[10147],\"80-89\":[5895],\"90+\":[656] })"
   ]
  },
  {
   "cell_type": "code",
   "execution_count": 73,
   "id": "0735e642",
   "metadata": {},
   "outputs": [
    {
     "data": {
      "text/html": [
       "<div>\n",
       "<style scoped>\n",
       "    .dataframe tbody tr th:only-of-type {\n",
       "        vertical-align: middle;\n",
       "    }\n",
       "\n",
       "    .dataframe tbody tr th {\n",
       "        vertical-align: top;\n",
       "    }\n",
       "\n",
       "    .dataframe thead th {\n",
       "        text-align: right;\n",
       "    }\n",
       "</style>\n",
       "<table border=\"1\" class=\"dataframe\">\n",
       "  <thead>\n",
       "    <tr style=\"text-align: right;\">\n",
       "      <th></th>\n",
       "      <th>0-12</th>\n",
       "      <th>12-14</th>\n",
       "      <th>15-16</th>\n",
       "      <th>17-19</th>\n",
       "      <th>20-29</th>\n",
       "      <th>30-39</th>\n",
       "      <th>40-49</th>\n",
       "      <th>50-59</th>\n",
       "      <th>60-69</th>\n",
       "      <th>70-79</th>\n",
       "      <th>80-89</th>\n",
       "      <th>90+</th>\n",
       "    </tr>\n",
       "  </thead>\n",
       "  <tbody>\n",
       "    <tr>\n",
       "      <th>0</th>\n",
       "      <td>6</td>\n",
       "      <td>4</td>\n",
       "      <td>4</td>\n",
       "      <td>8</td>\n",
       "      <td>73</td>\n",
       "      <td>296</td>\n",
       "      <td>1004</td>\n",
       "      <td>2614</td>\n",
       "      <td>6700</td>\n",
       "      <td>10147</td>\n",
       "      <td>5895</td>\n",
       "      <td>656</td>\n",
       "    </tr>\n",
       "  </tbody>\n",
       "</table>\n",
       "</div>"
      ],
      "text/plain": [
       "   0-12  12-14  15-16  17-19  20-29  30-39  40-49  50-59  60-69  70-79  80-89  \\\n",
       "0     6      4      4      8     73    296   1004   2614   6700  10147   5895   \n",
       "\n",
       "   90+  \n",
       "0  656  "
      ]
     },
     "execution_count": 73,
     "metadata": {},
     "output_type": "execute_result"
    }
   ],
   "source": [
    "df2.head()"
   ]
  },
  {
   "cell_type": "code",
   "execution_count": 91,
   "id": "c40f2bd7",
   "metadata": {},
   "outputs": [],
   "source": [
    "dff = pd.DataFrame({\"Възрастова група\":['0-12','12-14','15-16','17-19',\n",
    "                                        '20-29','30-39','40-49','50-59','60-69','70-79','80-89','90+'],\n",
    "                 \"Брой починали\":[6,4,4,8,73,296,1004,2614,6700,10147,5895,656]})\n",
    "  "
   ]
  },
  {
   "cell_type": "code",
   "execution_count": 79,
   "id": "9dc6eb0d",
   "metadata": {},
   "outputs": [
    {
     "data": {
      "text/html": [
       "<div>\n",
       "<style scoped>\n",
       "    .dataframe tbody tr th:only-of-type {\n",
       "        vertical-align: middle;\n",
       "    }\n",
       "\n",
       "    .dataframe tbody tr th {\n",
       "        vertical-align: top;\n",
       "    }\n",
       "\n",
       "    .dataframe thead th {\n",
       "        text-align: right;\n",
       "    }\n",
       "</style>\n",
       "<table border=\"1\" class=\"dataframe\">\n",
       "  <thead>\n",
       "    <tr style=\"text-align: right;\">\n",
       "      <th></th>\n",
       "      <th>Възрастова група</th>\n",
       "      <th>Брой починали</th>\n",
       "    </tr>\n",
       "  </thead>\n",
       "  <tbody>\n",
       "    <tr>\n",
       "      <th>0</th>\n",
       "      <td>0-12</td>\n",
       "      <td>6</td>\n",
       "    </tr>\n",
       "    <tr>\n",
       "      <th>1</th>\n",
       "      <td>12-14</td>\n",
       "      <td>4</td>\n",
       "    </tr>\n",
       "    <tr>\n",
       "      <th>2</th>\n",
       "      <td>15-16</td>\n",
       "      <td>4</td>\n",
       "    </tr>\n",
       "    <tr>\n",
       "      <th>3</th>\n",
       "      <td>17-19</td>\n",
       "      <td>8</td>\n",
       "    </tr>\n",
       "    <tr>\n",
       "      <th>4</th>\n",
       "      <td>20-29</td>\n",
       "      <td>73</td>\n",
       "    </tr>\n",
       "    <tr>\n",
       "      <th>5</th>\n",
       "      <td>30-39</td>\n",
       "      <td>296</td>\n",
       "    </tr>\n",
       "    <tr>\n",
       "      <th>6</th>\n",
       "      <td>40-49</td>\n",
       "      <td>1004</td>\n",
       "    </tr>\n",
       "    <tr>\n",
       "      <th>7</th>\n",
       "      <td>50-59</td>\n",
       "      <td>2614</td>\n",
       "    </tr>\n",
       "    <tr>\n",
       "      <th>8</th>\n",
       "      <td>60-69</td>\n",
       "      <td>6700</td>\n",
       "    </tr>\n",
       "    <tr>\n",
       "      <th>9</th>\n",
       "      <td>70-79</td>\n",
       "      <td>10147</td>\n",
       "    </tr>\n",
       "    <tr>\n",
       "      <th>10</th>\n",
       "      <td>80-89</td>\n",
       "      <td>5895</td>\n",
       "    </tr>\n",
       "    <tr>\n",
       "      <th>11</th>\n",
       "      <td>90+</td>\n",
       "      <td>656</td>\n",
       "    </tr>\n",
       "  </tbody>\n",
       "</table>\n",
       "</div>"
      ],
      "text/plain": [
       "   Възрастова група  Брой починали\n",
       "0              0-12              6\n",
       "1             12-14              4\n",
       "2             15-16              4\n",
       "3             17-19              8\n",
       "4             20-29             73\n",
       "5             30-39            296\n",
       "6             40-49           1004\n",
       "7             50-59           2614\n",
       "8             60-69           6700\n",
       "9             70-79          10147\n",
       "10            80-89           5895\n",
       "11              90+            656"
      ]
     },
     "execution_count": 79,
     "metadata": {},
     "output_type": "execute_result"
    }
   ],
   "source": [
    "dff.head(12)"
   ]
  },
  {
   "cell_type": "code",
   "execution_count": null,
   "id": "f673c8c7",
   "metadata": {},
   "outputs": [],
   "source": []
  },
  {
   "cell_type": "code",
   "execution_count": 93,
   "id": "76eccfb2",
   "metadata": {},
   "outputs": [
    {
     "data": {
      "text/plain": [
       "Index(['Възрастова група', 'Брой починали'], dtype='object')"
      ]
     },
     "execution_count": 93,
     "metadata": {},
     "output_type": "execute_result"
    }
   ],
   "source": [
    "dff.keys()"
   ]
  },
  {
   "cell_type": "code",
   "execution_count": 111,
   "id": "aa6a98f3",
   "metadata": {},
   "outputs": [
    {
     "data": {
      "text/plain": [
       "[<matplotlib.lines.Line2D at 0x10eb2220>]"
      ]
     },
     "execution_count": 111,
     "metadata": {},
     "output_type": "execute_result"
    },
    {
     "data": {
      "image/png": "[encoded data removed]",
      "text/plain": [
       "<Figure size 432x288 with 1 Axes>"
      ]
     },
     "metadata": {
      "needs_background": "light"
     },
     "output_type": "display_data"
    }
   ],
   "source": [
    "plt.xticks(rotation=90)\n",
    "plt.plot(dff[\"Възрастова група\"],dff[\"Брой починали\"],linestyle='--', marker='o', color='b')\n"
   ]
  },
  {
   "cell_type": "code",
   "execution_count": 103,
   "id": "d1cef03e",
   "metadata": {},
   "outputs": [
    {
     "data": {
      "text/plain": [
       "<AxesSubplot:xlabel='Възрастова група', ylabel='Брой починали'>"
      ]
     },
     "execution_count": 103,
     "metadata": {},
     "output_type": "execute_result"
    },
    {
     "data": {
      "image/png": "[encoded data removed]",
      "text/plain": [
       "<Figure size 432x288 with 1 Axes>"
      ]
     },
     "metadata": {
      "needs_background": "light"
     },
     "output_type": "display_data"
    }
   ],
   "source": [
    "sns.lineplot(data=dff, x=\"Възрастова група\", y=\"Брой починали\")"
   ]
  },
  {
   "cell_type": "code",
   "execution_count": 110,
   "id": "d88f2f2e",
   "metadata": {},
   "outputs": [
    {
     "data": {
      "text/plain": [
       "(array([[12.,  0.,  0.,  0.,  0.,  0.,  0.,  0.,  0.,  0.],\n",
       "        [ 8.,  0.,  1.,  0.,  0.,  1.,  1.,  0.,  0.,  1.]]),\n",
       " array([0.0, 1014.7, 2029.4, 3044.1000000000004, 4058.8, 5073.5,\n",
       "        6088.200000000001, 7102.900000000001, 8117.6, 9132.300000000001,\n",
       "        10147.0], dtype=object),\n",
       " <a list of 2 BarContainer objects>)"
      ]
     },
     "execution_count": 110,
     "metadata": {},
     "output_type": "execute_result"
    },
    {
     "data": {
      "image/png": "[encoded data removed]",
      "text/plain": [
       "<Figure size 432x288 with 1 Axes>"
      ]
     },
     "metadata": {
      "needs_background": "light"
     },
     "output_type": "display_data"
    }
   ],
   "source": [
    "plt.hist(dff)"
   ]
  },
  {
   "cell_type": "code",
   "execution_count": null,
   "id": "f96e1776",
   "metadata": {},
   "outputs": [],
   "source": []
  }
 ],
 "metadata": {
  "kernelspec": {
   "display_name": "Python 3",
   "language": "python",
   "name": "python3"
  },
  "language_info": {
   "codemirror_mode": {
    "name": "ipython",
    "version": 3
   },
   "file_extension": ".py",
   "mimetype": "text/x-python",
   "name": "python",
   "nbconvert_exporter": "python",
   "pygments_lexer": "ipython3",
   "version": "3.8.8"
  }
 },
 "nbformat": 4,
 "nbformat_minor": 5
}
